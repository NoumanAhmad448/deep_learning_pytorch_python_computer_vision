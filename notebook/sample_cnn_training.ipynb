{
  "nbformat": 4,
  "nbformat_minor": 0,
  "metadata": {
    "colab": {
      "provenance": []
    },
    "kernelspec": {
      "name": "python3",
      "display_name": "Python 3"
    },
    "language_info": {
      "name": "python"
    },
    "gpuClass": "standard",
    "accelerator": "GPU"
  },
  "cells": [
    {
      "cell_type": "code",
      "source": [
        "def change_device(tensor: torch.Tensor, device=\"cuda\"):\n",
        "  return tensor.to(device)\n",
        "\n",
        "def setup_device():\n",
        "    return \"cuda\" if  torch.cuda.is_available() else \"cpu\"\n",
        "\n",
        "\n",
        "def change_dtype(tensor:torch.Tensor, dtype=torch.float):\n",
        "  \"\"\"\n",
        "    dtype must have the value mentioned in the torch documentation\n",
        "    e.g. torch.float , torch.LongTensor\n",
        "  \"\"\"\n",
        "  return tensor.to(dtype)\n",
        "def show_image(image, label=None, is_squeeze_req:bool=False):\n",
        "  \"\"\"\n",
        "    show image on the screen\n",
        "    require convert_to_numpy function to be called first\n",
        "  \"\"\"\n",
        "  if label is None:\n",
        "    label = \"Image Caption\"\n",
        "  plt.figure(figsize=(4,4))\n",
        "  plt.imshow(convert_to_numpy(image))\n",
        "  plt.title(label)\n",
        "  plt.axis(False)\n",
        "\n",
        "def convert_to_tensor(array, is_change_dtype=False, is_change_device=False, to_device=\"cpu\")->torch.Tensor:\n",
        "  \"\"\"\n",
        "  convert numpy array to tensor\n",
        "  is_change_dtype=True will change the dtype to float\n",
        "  \"\"\"\n",
        "\n",
        "  tensor = None\n",
        "  if torch.is_tensor(array):\n",
        "     tensor = array\n",
        "  else:\n",
        "     tensor = torch.from_numpy(array)\n",
        "  \n",
        "  if is_change_dtype: \n",
        "    tensor = change_dtype(tensor)\n",
        "  \n",
        "  if is_change_device: \n",
        "    tensor = change_device(tensor, device=to_device)\n",
        "  \n",
        "  return tensor\n",
        "\n",
        "# convert_to_tensor(random.rand(2,3),is_change_dtype=True)"
      ],
      "metadata": {
        "id": "vCIJzVZCYz0d"
      },
      "execution_count": 65,
      "outputs": []
    },
    {
      "cell_type": "code",
      "source": [
        "def convert_to_numpy(tensor:torch.Tensor):\n",
        "  \"\"\"\n",
        "  convert tensor to numpy\n",
        "  \"\"\"\n",
        "  try:\n",
        "    return tensor.cpu() if tensor.ndim > 1 else \"tensor ndim must be greater than 1\"\n",
        "      \n",
        "  except:\n",
        "    return \"Something went wrong while converting tensor to numpy\""
      ],
      "metadata": {
        "id": "5_qUymunVkQL"
      },
      "execution_count": 66,
      "outputs": []
    },
    {
      "cell_type": "code",
      "source": [
        "def show_image(image, label=None, cmap:str=\"gray\",figsize:tuple = (4,4), is_squeeze_not_req:bool=False):\n",
        "  \"\"\"\n",
        "    show image on the screen\n",
        "    require convert_to_numpy function to be called first\n",
        "  \"\"\"\n",
        "  if label is None:\n",
        "    label = \"Image Caption\"\n",
        "  plt.figure(figsize=figsize)\n",
        "  plt.imshow(convert_to_numpy(image if is_squeeze_not_req else image.squeeze()), cmap=cmap)\n",
        "  plt.title(label)\n",
        "  plt.axis(False)"
      ],
      "metadata": {
        "id": "KaniAV6mVGqm"
      },
      "execution_count": 67,
      "outputs": []
    },
    {
      "cell_type": "code",
      "source": [
        "def show_multi_images(data: torch.Tensor, figsize:tuple=(9,9), rows:int=3, cols:int=3, classes=None,\n",
        "                      cmap=\"gray\", is_require_squeeze:bool=True):\n",
        "  \"\"\"\n",
        "  classes list|dict\n",
        "  require convert_to_numpy function to be called first\n",
        "  \"\"\"\n",
        "  DEFAULT_LABEL = None\n",
        "  if classes is None:\n",
        "    DEFAULT_LABEL = \"Image Caption\"\n",
        "  \n",
        "  figure = plt.figure(figsize=figsize)\n",
        "  cols, rows = cols, rows\n",
        "  for i in range(1, cols * rows + 1):\n",
        "      sample_idx = torch.randint(len(data), size=(1,)).item()\n",
        "      img, label = data[sample_idx]\n",
        "      figure.add_subplot(rows, cols, i)\n",
        "      plt.title(DEFAULT_LABEL if classes is None else classes[label])\n",
        "      plt.axis(False)\n",
        "      plt.imshow(convert_to_numpy(img.squeeze() if is_require_squeeze else img), cmap=cmap)\n",
        "  plt.show()\n"
      ],
      "metadata": {
        "id": "ibV_lOlnBwe4"
      },
      "execution_count": 68,
      "outputs": []
    },
    {
      "cell_type": "code",
      "source": [
        "import torch \n",
        "import numpy as np\n",
        "import matplotlib.pyplot as plt\n",
        "from sklearn.model_selection import train_test_split\n",
        "from numpy import random\n",
        "from torch import nn\n",
        "\n",
        "try:\n",
        "  from torchsummary import summary\n",
        "except:\n",
        "  !pip install torchsummary\n",
        "  from torchsummary import summary\n",
        "\n",
        "try:\n",
        "  from torchmetrics import Accuracy\n",
        "except:\n",
        "  !pip install torchmetrics\n",
        "  from torchmetrics import Accuracy\n",
        "  \n",
        "from torchvision.transforms import ToTensor\n",
        "from torch.utils.data import DataLoader"
      ],
      "metadata": {
        "id": "VIlpsN2MErIj"
      },
      "execution_count": 69,
      "outputs": []
    },
    {
      "cell_type": "code",
      "source": [
        "\n",
        "from torchvision.datasets import CIFAR100"
      ],
      "metadata": {
        "id": "xbcDv78jE58_"
      },
      "execution_count": 70,
      "outputs": []
    },
    {
      "cell_type": "code",
      "source": [
        "ROOT_DIR = \"data\"\n",
        "\n",
        "train_data = CIFAR100(\n",
        "    root=ROOT_DIR,\n",
        "    download=True,\n",
        "    transform=ToTensor()\n",
        ")\n",
        "\n",
        "test_data = CIFAR100(\n",
        "    root=ROOT_DIR,\n",
        "    train=False,\n",
        "    download=True,\n",
        "    transform=ToTensor()\n",
        ")"
      ],
      "metadata": {
        "id": "U4Fvy3a7FReC",
        "colab": {
          "base_uri": "https://localhost:8080/"
        },
        "outputId": "53a71626-4345-4713-a7d3-0267827f5c59"
      },
      "execution_count": 71,
      "outputs": [
        {
          "output_type": "stream",
          "name": "stdout",
          "text": [
            "Files already downloaded and verified\n",
            "Files already downloaded and verified\n"
          ]
        }
      ]
    },
    {
      "cell_type": "code",
      "source": [
        "def convert_to_numpy(tensor:torch.Tensor):\n",
        "  \"\"\"\n",
        "  convert tensor to numpy\n",
        "  \"\"\"\n",
        "  try:\n",
        "    return tensor.cpu() if tensor.ndim > 1 else \"tensor ndim must be greater than 1\"\n",
        "      \n",
        "  except:\n",
        "    return \"Something went wrong while converting tensor to numpy\""
      ],
      "metadata": {
        "id": "pT3kZNZGGCgE"
      },
      "execution_count": 72,
      "outputs": []
    },
    {
      "cell_type": "code",
      "source": [
        "def show_image(image, label=None, cmap:str=\"gray\",figsize:tuple = (4,4), is_squeeze_not_req:bool=False,\n",
        "               is_img_rgb:bool=False):\n",
        "  \"\"\"\n",
        "    show image on the screen\n",
        "    require convert_to_numpy function to be called first\n",
        "  \"\"\"\n",
        "  if label is None:\n",
        "    label = \"Image Caption\"\n",
        "  if is_img_rgb:\n",
        "    image = image.permute(1,2,0)\n",
        "  \n",
        "  plt.figure(figsize=figsize)\n",
        "  plt.imshow(convert_to_numpy(image if is_squeeze_not_req else image.squeeze()), cmap=cmap)\n",
        "  plt.title(label)\n",
        "  plt.axis(False)"
      ],
      "metadata": {
        "id": "gmnX3OFLNNjO"
      },
      "execution_count": 73,
      "outputs": []
    },
    {
      "cell_type": "code",
      "source": [
        "len(train_data)\n",
        "len(test_data)"
      ],
      "metadata": {
        "colab": {
          "base_uri": "https://localhost:8080/"
        },
        "id": "kHN2auuV1cKw",
        "outputId": "4bcbd80b-714f-4ff5-a778-87f4ef5ba5a0"
      },
      "execution_count": 74,
      "outputs": [
        {
          "output_type": "execute_result",
          "data": {
            "text/plain": [
              "10000"
            ]
          },
          "metadata": {},
          "execution_count": 74
        }
      ]
    },
    {
      "cell_type": "code",
      "source": [
        "BATCH = 32\n",
        "train_dataloader = DataLoader(train_data, batch_size=BATCH, shuffle=True)\n",
        "test_dataloader = DataLoader(test_data, batch_size=BATCH, shuffle=True)\n",
        "# print(len(train_dataloader))\n",
        "\n",
        "# X_train , y_train = next(iter(train_dataloader))\n",
        "# sample_index = torch.randint(len(range(BATCH)), size=(1,)).item()\n",
        "# show_image(X_train[sample_index], label=train_classes[y_train[sample_index]])"
      ],
      "metadata": {
        "id": "47ZonIz2JJNR"
      },
      "execution_count": 7,
      "outputs": []
    },
    {
      "cell_type": "code",
      "source": [
        "train_classes = train_data.classes\n",
        "print(f\"type-> {type(train_classes)} len->{len(train_classes)}\")\n"
      ],
      "metadata": {
        "colab": {
          "base_uri": "https://localhost:8080/"
        },
        "id": "JkkUP_sg2qNd",
        "outputId": "102a1d3e-d40f-41fb-e921-e03663b555b9"
      },
      "execution_count": 8,
      "outputs": [
        {
          "output_type": "stream",
          "name": "stdout",
          "text": [
            "type-> <class 'list'> len->100\n"
          ]
        }
      ]
    },
    {
      "cell_type": "code",
      "source": [
        "b, (x,y) = next(enumerate(train_dataloader))\n",
        "y.shape"
      ],
      "metadata": {
        "colab": {
          "base_uri": "https://localhost:8080/"
        },
        "id": "MtecwbHU-nFj",
        "outputId": "7d93f969-867c-4201-8b2c-73d4490e9a4c"
      },
      "execution_count": 9,
      "outputs": [
        {
          "output_type": "execute_result",
          "data": {
            "text/plain": [
              "torch.Size([32])"
            ]
          },
          "metadata": {},
          "execution_count": 9
        }
      ]
    },
    {
      "cell_type": "code",
      "source": [],
      "metadata": {
        "id": "rHpd-SQl4LuI"
      },
      "execution_count": null,
      "outputs": []
    },
    {
      "cell_type": "code",
      "source": [
        "sample_index = torch.randint(len(x), size=(1,)).item()\n",
        "show_image(image=x[sample_index], label=train_classes[y[sample_index]], is_img_rgb=True)\n",
        "# show_multi_images(data=x, classes=train_classes)\n"
      ],
      "metadata": {
        "colab": {
          "base_uri": "https://localhost:8080/",
          "height": 367
        },
        "id": "xaU4D5LD1w4-",
        "outputId": "ae15e3c1-0246-4527-849c-a7823c71c5dd"
      },
      "execution_count": 10,
      "outputs": [
        {
          "output_type": "display_data",
          "data": {
            "text/plain": [
              "<Figure size 400x400 with 1 Axes>"
            ],
            "image/png": "[encoded data removed]"
          },
          "metadata": {}
        }
      ]
    },
    {
      "cell_type": "code",
      "source": [
        "class FashtionClassification(nn.Module):\n",
        "  def __init__(self,input_channel,hidden_channel,output_channel):\n",
        "    super().__init__()\n",
        "    self.input_channel = input_channel\n",
        "    self.hidden_channel = hidden_channel\n",
        "    self.output_channel = output_channel\n",
        "\n",
        "    self.layer1 = nn.Sequential(\n",
        "                               nn.Conv2d(in_channels=self.input_channel,out_channels=self.hidden_channel,kernel_size=3),\n",
        "                               nn.ReLU(),\n",
        "                               nn.Conv2d(in_channels=self.hidden_channel,out_channels=self.hidden_channel,kernel_size=3),\n",
        "                               nn.ReLU(),\n",
        "                               nn.MaxPool2d(kernel_size=2,padding=1,stride=2)\n",
        "    )\n",
        "    self.layer2 = nn.Sequential(\n",
        "                               nn.Conv2d(in_channels=self.hidden_channel,out_channels=self.hidden_channel,kernel_size=3),\n",
        "                               nn.ReLU(),\n",
        "                               nn.Conv2d(in_channels=self.hidden_channel,out_channels=self.hidden_channel,kernel_size=3)\n",
        "                                ,nn.MaxPool2d(kernel_size=2,padding=1,stride=2)\n",
        "    )\n",
        "    self.layer21 = nn.Sequential(\n",
        "                               nn.Conv2d(in_channels=self.hidden_channel,out_channels=self.hidden_channel,kernel_size=3),\n",
        "                               nn.ReLU(),\n",
        "                               nn.Conv2d(in_channels=self.hidden_channel,out_channels=self.hidden_channel,kernel_size=3)\n",
        "                                ,nn.MaxPool2d(kernel_size=2,padding=1,stride=2)\n",
        "    )\n",
        "    self.layer3 = nn.Sequential(\n",
        "                                nn.Flatten(),\n",
        "                                nn.Linear(in_features=1152, out_features=100),\n",
        "                                nn.ReLU(),\n",
        "                                nn.Linear(in_features=100, out_features=self.output_channel)    ,                         \n",
        "                                nn.ReLU(),\n",
        "    )\n",
        "\n",
        "  \n",
        "  def forward(self,x):\n",
        "    return self.layer3(self.layer2(self.layer1(x)))\n",
        "\n"
      ],
      "metadata": {
        "id": "pjXr8VdwMUPl"
      },
      "execution_count": 55,
      "outputs": []
    },
    {
      "cell_type": "code",
      "source": [],
      "metadata": {
        "id": "axX-NK06XQAS"
      },
      "execution_count": 55,
      "outputs": []
    },
    {
      "cell_type": "code",
      "source": [
        "DEVICE = setup_device()\n",
        "print(DEVICE)"
      ],
      "metadata": {
        "colab": {
          "base_uri": "https://localhost:8080/"
        },
        "id": "5HlmqfndDQg9",
        "outputId": "596f6621-6b7c-4bae-e38e-0df78511e587"
      },
      "execution_count": 57,
      "outputs": [
        {
          "output_type": "stream",
          "name": "stdout",
          "text": [
            "cpu\n"
          ]
        }
      ]
    },
    {
      "cell_type": "code",
      "source": [
        "from torchsummary import summary"
      ],
      "metadata": {
        "id": "nAHzKnpLbn7S"
      },
      "execution_count": 58,
      "outputs": []
    },
    {
      "cell_type": "code",
      "source": [
        "model0 = change_device(FashtionClassification(input_channel=3,hidden_channel=32,output_channel=len(train_classes)), device=DEVICE)"
      ],
      "metadata": {
        "id": "zLf_WLEUC8aM"
      },
      "execution_count": 59,
      "outputs": []
    },
    {
      "cell_type": "code",
      "source": [
        "loss_fn = nn.CrossEntropyLoss()\n",
        "optimizer = torch.optim.SGD(model0.parameters(), lr=0.1)"
      ],
      "metadata": {
        "id": "5Ez84r-mDhg_"
      },
      "execution_count": 60,
      "outputs": []
    },
    {
      "cell_type": "code",
      "source": [
        "summary(model0, (3,32,32))"
      ],
      "metadata": {
        "colab": {
          "base_uri": "https://localhost:8080/"
        },
        "id": "2AJ5Mx8lLrgI",
        "outputId": "fe92e821-b579-4edc-ceee-2af75314b514"
      },
      "execution_count": 61,
      "outputs": [
        {
          "output_type": "stream",
          "name": "stdout",
          "text": [
            "----------------------------------------------------------------\n",
            "        Layer (type)               Output Shape         Param #\n",
            "================================================================\n",
            "            Conv2d-1           [-1, 32, 30, 30]             896\n",
            "              ReLU-2           [-1, 32, 30, 30]               0\n",
            "            Conv2d-3           [-1, 32, 28, 28]           9,248\n",
            "              ReLU-4           [-1, 32, 28, 28]               0\n",
            "         MaxPool2d-5           [-1, 32, 15, 15]               0\n",
            "            Conv2d-6           [-1, 32, 13, 13]           9,248\n",
            "              ReLU-7           [-1, 32, 13, 13]               0\n",
            "            Conv2d-8           [-1, 32, 11, 11]           9,248\n",
            "         MaxPool2d-9             [-1, 32, 6, 6]               0\n",
            "          Flatten-10                 [-1, 1152]               0\n",
            "           Linear-11                  [-1, 100]         115,300\n",
            "             ReLU-12                  [-1, 100]               0\n",
            "           Linear-13                  [-1, 100]          10,100\n",
            "             ReLU-14                  [-1, 100]               0\n",
            "================================================================\n",
            "Total params: 154,040\n",
            "Trainable params: 154,040\n",
            "Non-trainable params: 0\n",
            "----------------------------------------------------------------\n",
            "Input size (MB): 0.01\n",
            "Forward/backward pass size (MB): 1.01\n",
            "Params size (MB): 0.59\n",
            "Estimated Total Size (MB): 1.61\n",
            "----------------------------------------------------------------\n"
          ]
        }
      ]
    },
    {
      "cell_type": "code",
      "source": [
        "DEVICE"
      ],
      "metadata": {
        "id": "VRH4rmxKpttB",
        "colab": {
          "base_uri": "https://localhost:8080/",
          "height": 35
        },
        "outputId": "ad35c214-8045-400b-b75d-a565fa646612"
      },
      "execution_count": 62,
      "outputs": [
        {
          "output_type": "execute_result",
          "data": {
            "text/plain": [
              "'cpu'"
            ],
            "application/vnd.google.colaboratory.intrinsic+json": {
              "type": "string"
            }
          },
          "metadata": {},
          "execution_count": 62
        }
      ]
    },
    {
      "cell_type": "code",
      "source": [
        "EPOCHS = 1\n",
        "total_batches = 0\n",
        "loss_metrics = []\n",
        "accuracy_metrics = []\n",
        "\n",
        "accuracy_fn = Accuracy(task=\"multiclass\", num_classes=len(train_classes))\n",
        "\n",
        "for epoch in range(EPOCHS):\n",
        "  model0.train()\n",
        "  for batch, (X_data, y_train) in enumerate(train_dataloader):\n",
        "    # print(f\"epoch -> {batch} X_data->{X_data.shape} y_train->{y_train.shape}\")\n",
        "    # break\n",
        "    X_data = change_device(tensor=X_data, device=DEVICE)\n",
        "    y_train = change_device(tensor=y_train, device=DEVICE)\n",
        "\n",
        "    y_pred = model0(X_data)#.to(torch.cuda.FloatTensor))\n",
        "    # print(y_pred.shape)\n",
        "    loss = loss_fn(y_pred,y_train)\n",
        "    acc = accuracy_fn(y_pred,y_train)  \n",
        "    \n",
        "    # if batch%20 == 0:\n",
        "    #   loss_metrics.append(loss.item())\n",
        "    #   accuracy_metrics.append(acc.item())\n",
        "\n",
        "    optimizer.zero_grad()\n",
        "\n",
        "    loss.backward()\n",
        "\n",
        "    optimizer.step()\n",
        "\n",
        "  for batch, (X_test, y_test) in enumerate(test_dataloader):\n",
        "    # print(f\"epoch -> {batch} X_test->{X_test.shape} y_test->{y_test.shape}\")\n",
        "    # break\n",
        "    X_test = change_device(tensor=X_test, device=DEVICE)\n",
        "    y_test = change_device(tensor=y_test, device=DEVICE)\n",
        "\n",
        "    y_pred = model0(X_test)\n",
        "    # print(y_pred.shape)\n",
        "    loss_test = loss_fn(y_pred,y_test)\n",
        "    acc_test = accuracy_fn(y_pred,y_test)  \n",
        "    \n",
        "    if batch%100 == 0:\n",
        "      loss_metrics.append(loss.item())\n",
        "      accuracy_metrics.append(acc.item())\n",
        "      print(f\"loss-> {loss:.5f} loss_test->{loss_test:.5f} acc-> {acc} acc_test {acc_test}\")\n",
        "  # print(loss)\n",
        "# print(loss_metrics[-1])\n",
        "# print(accuracy_metrics[-1])"
      ],
      "metadata": {
        "colab": {
          "base_uri": "https://localhost:8080/"
        },
        "id": "qn4ao222IKPo",
        "outputId": "598e12fb-562a-4e40-8a71-3f8cf280622d"
      },
      "execution_count": 63,
      "outputs": [
        {
          "output_type": "stream",
          "name": "stdout",
          "text": [
            "loss-> 4.32837 loss_test->4.19894 acc-> 0.0 acc_test 0.0625\n",
            "loss-> 4.32837 loss_test->4.38154 acc-> 0.0 acc_test 0.09375\n",
            "loss-> 4.32837 loss_test->4.26242 acc-> 0.0 acc_test 0.125\n",
            "loss-> 4.32837 loss_test->4.16332 acc-> 0.0 acc_test 0.03125\n"
          ]
        }
      ]
    },
    {
      "cell_type": "code",
      "source": [
        "model0.eval()\n",
        "with torch.inference_mode():\n",
        "  for batch, (X_test,y_test) in enumerate(test_dataloader):\n",
        "    y_pred_test = model0(change_dtype(X_test))\n",
        "    loss_test = loss_fn(y_pred_test,y_test)\n",
        "    acc = accuracy_fn(y_pred_test,y_test)\n",
        "  print(f\"loss -> {loss_test:.5f} acc->{acc:.5f}\")"
      ],
      "metadata": {
        "colab": {
          "base_uri": "https://localhost:8080/"
        },
        "id": "SL246rHKMAqO",
        "outputId": "42775633-951b-420e-bb59-625d44b32da3"
      },
      "execution_count": 64,
      "outputs": [
        {
          "output_type": "stream",
          "name": "stdout",
          "text": [
            "loss -> 4.21313 acc->0.18750\n"
          ]
        }
      ]
    }
  ]
}