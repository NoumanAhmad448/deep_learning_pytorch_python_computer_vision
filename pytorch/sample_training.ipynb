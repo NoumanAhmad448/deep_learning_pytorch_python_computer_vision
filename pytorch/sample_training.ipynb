{
  "nbformat": 4,
  "nbformat_minor": 0,
  "metadata": {
    "colab": {
      "provenance": []
    },
    "kernelspec": {
      "name": "python3",
      "display_name": "Python 3"
    },
    "language_info": {
      "name": "python"
    },
    "gpuClass": "standard",
    "accelerator": "GPU"
  },
  "cells": [
    {
      "cell_type": "code",
      "source": [
        "import torch \n",
        "import numpy as np\n",
        "import matplotlib.pyplot as plt\n",
        "from sklearn.model_selection import train_test_split\n",
        "from numpy import random\n",
        "from torch import nn\n",
        "\n",
        "try:\n",
        "  from torchsummary import summary\n",
        "except:\n",
        "  !pip install torchsummary\n",
        "  from torchsummary import summary\n",
        "\n",
        "try:\n",
        "  from torchmetrics import Accuracy\n",
        "except:\n",
        "  !pip install torchmetrics\n",
        "  from torchmetrics import Accuracy\n",
        "\n",
        "from sklearn.datasets import load_iris\n"
      ],
      "metadata": {
        "colab": {
          "base_uri": "https://localhost:8080/"
        },
        "id": "te2_S-XgW0tg",
        "outputId": "6dd731a9-cb14-4920-f14e-fb9a50e719bc"
      },
      "execution_count": 1,
      "outputs": [
        {
          "output_type": "stream",
          "name": "stdout",
          "text": [
            "Looking in indexes: https://pypi.org/simple, https://us-python.pkg.dev/colab-wheels/public/simple/\n",
            "Collecting torchmetrics\n",
            "  Downloading torchmetrics-0.11.4-py3-none-any.whl (519 kB)\n",
            "\u001b[2K     \u001b[90m━━━━━━━━━━━━━━━━━━━━━━━━━━━━━━━━━━━━━━━\u001b[0m \u001b[32m519.2/519.2 kB\u001b[0m \u001b[31m4.2 MB/s\u001b[0m eta \u001b[36m0:00:00\u001b[0m\n",
            "\u001b[?25hRequirement already satisfied: packaging in /usr/local/lib/python3.9/dist-packages (from torchmetrics) (23.0)\n",
            "Requirement already satisfied: torch>=1.8.1 in /usr/local/lib/python3.9/dist-packages (from torchmetrics) (2.0.0+cu118)\n",
            "Requirement already satisfied: numpy>=1.17.2 in /usr/local/lib/python3.9/dist-packages (from torchmetrics) (1.22.4)\n",
            "Requirement already satisfied: networkx in /usr/local/lib/python3.9/dist-packages (from torch>=1.8.1->torchmetrics) (3.0)\n",
            "Requirement already satisfied: typing-extensions in /usr/local/lib/python3.9/dist-packages (from torch>=1.8.1->torchmetrics) (4.5.0)\n",
            "Requirement already satisfied: jinja2 in /usr/local/lib/python3.9/dist-packages (from torch>=1.8.1->torchmetrics) (3.1.2)\n",
            "Requirement already satisfied: sympy in /usr/local/lib/python3.9/dist-packages (from torch>=1.8.1->torchmetrics) (1.11.1)\n",
            "Requirement already satisfied: filelock in /usr/local/lib/python3.9/dist-packages (from torch>=1.8.1->torchmetrics) (3.10.7)\n",
            "Requirement already satisfied: triton==2.0.0 in /usr/local/lib/python3.9/dist-packages (from torch>=1.8.1->torchmetrics) (2.0.0)\n",
            "Requirement already satisfied: cmake in /usr/local/lib/python3.9/dist-packages (from triton==2.0.0->torch>=1.8.1->torchmetrics) (3.25.2)\n",
            "Requirement already satisfied: lit in /usr/local/lib/python3.9/dist-packages (from triton==2.0.0->torch>=1.8.1->torchmetrics) (16.0.0)\n",
            "Requirement already satisfied: MarkupSafe>=2.0 in /usr/local/lib/python3.9/dist-packages (from jinja2->torch>=1.8.1->torchmetrics) (2.1.2)\n",
            "Requirement already satisfied: mpmath>=0.19 in /usr/local/lib/python3.9/dist-packages (from sympy->torch>=1.8.1->torchmetrics) (1.3.0)\n",
            "Installing collected packages: torchmetrics\n",
            "Successfully installed torchmetrics-0.11.4\n"
          ]
        }
      ]
    },
    {
      "cell_type": "code",
      "source": [
        "def change_device(tensor: torch.Tensor, device=\"cuda\"):\n",
        "  return tensor.to(device)\n",
        "\n",
        "def setup_device():\n",
        "    return \"cuda\" if  torch.cuda.is_available() else \"cpu\"\n",
        "\n",
        "\n",
        "def change_dtype(tensor:torch.Tensor, dtype=torch.float):\n",
        "  \"\"\"\n",
        "    dtype must have the value mentioned in the torch documentation\n",
        "    e.g. torch.float , torch.LongTensor\n",
        "  \"\"\"\n",
        "  return tensor.to(dtype)\n",
        "def show_image(image, label=None):\n",
        "  \"\"\"\n",
        "    show image on the screen\n",
        "    require convert_to_numpy function to be called first\n",
        "  \"\"\"\n",
        "  if label is None:\n",
        "    label = \"Image Caption\"\n",
        "  plt.figure(figsize=(4,4))\n",
        "  plt.imshow(convert_to_numpy(image))\n",
        "  plt.title(label)\n",
        "  plt.axis(False)\n",
        "\n",
        "def convert_to_tensor(array, is_change_dtype=False, is_change_device=False, to_device=\"cpu\")->torch.Tensor:\n",
        "  \"\"\"\n",
        "  convert numpy array to tensor\n",
        "  is_change_dtype=True will change the dtype to float\n",
        "  \"\"\"\n",
        "\n",
        "  tensor = None\n",
        "  if torch.is_tensor(array):\n",
        "     tensor = array\n",
        "  else:\n",
        "     tensor = torch.from_numpy(array)\n",
        "  \n",
        "  if is_change_dtype: \n",
        "    tensor = change_dtype(tensor)\n",
        "  \n",
        "  if is_change_device: \n",
        "    tensor = change_device(tensor, device=to_device)\n",
        "  \n",
        "  return tensor\n",
        "\n",
        "# convert_to_tensor(random.rand(2,3),is_change_dtype=True)"
      ],
      "metadata": {
        "id": "vCIJzVZCYz0d"
      },
      "execution_count": 2,
      "outputs": []
    },
    {
      "cell_type": "code",
      "source": [
        "DEVICE = setup_device()\n",
        "TEST_SIZE = 0.33\n",
        "RANDOM_STATE = 42 \n",
        "\n",
        "data_classes = [\"class1\", \"class2\", \"class3\"]\n",
        "\n",
        "X, y = load_iris(return_X_y=True)\n",
        "\n",
        "# print(target)"
      ],
      "metadata": {
        "id": "pgP_gLKmZBD9"
      },
      "execution_count": 3,
      "outputs": []
    },
    {
      "cell_type": "code",
      "source": [
        "X_train, X_test, y_train, y_test = train_test_split(\n",
        "     X, y, test_size=TEST_SIZE, random_state=RANDOM_STATE)\n",
        "\n",
        "\n",
        "print(f\"{X_train.shape} -> {y_train.shape} -> {X_test.shape} -> {y_test.shape}\" )"
      ],
      "metadata": {
        "colab": {
          "base_uri": "https://localhost:8080/"
        },
        "id": "F8xVzAxCZYeU",
        "outputId": "cda4e1a7-4ab3-420b-bd8b-a0e6de554380"
      },
      "execution_count": 4,
      "outputs": [
        {
          "output_type": "stream",
          "name": "stdout",
          "text": [
            "(100, 4) -> (100,) -> (50, 4) -> (50,)\n"
          ]
        }
      ]
    },
    {
      "cell_type": "code",
      "source": [
        "X_train = convert_to_tensor(X_train, is_change_dtype=True, is_change_device=True, to_device= DEVICE)\n",
        "X_test = convert_to_tensor(X_test, is_change_dtype=True, is_change_device=True, to_device= DEVICE)\n",
        "\n",
        "y_train = convert_to_tensor(y_train, is_change_dtype=True, is_change_device=True, to_device= DEVICE)\n",
        "y_test = convert_to_tensor(y_test, is_change_dtype=True, is_change_device=True, to_device= DEVICE)\n",
        "\n",
        "print(f\"{X_train.dtype} -> {X_test.dtype} -> {y_train.dtype} -> {y_test.dtype}\")"
      ],
      "metadata": {
        "colab": {
          "base_uri": "https://localhost:8080/"
        },
        "id": "dkL_nG0dcbSM",
        "outputId": "6e0b756c-b2a2-4e02-fc9e-4ef283068299"
      },
      "execution_count": 5,
      "outputs": [
        {
          "output_type": "stream",
          "name": "stdout",
          "text": [
            "torch.float32 -> torch.float32 -> torch.float32 -> torch.float32\n"
          ]
        }
      ]
    },
    {
      "cell_type": "code",
      "source": [
        "class IrisClassficationModel(nn.Module):\n",
        "  def __init__(self, input_features: int, hidden_features: int, output_features: int):\n",
        "    super().__init__()\n",
        "    self.layer = nn.Sequential(\n",
        "          nn.Linear(input_features, hidden_features),\n",
        "          nn.Linear(hidden_features, hidden_features),\n",
        "          nn.Linear(hidden_features, output_features)\n",
        "      )\n",
        "  \n",
        "  def forward(self, x):\n",
        "    return self.layer(x)\n"
      ],
      "metadata": {
        "id": "V6tNjL6Emql6"
      },
      "execution_count": 6,
      "outputs": []
    },
    {
      "cell_type": "code",
      "source": [
        "INPUT_FEATURES = 4\n",
        "HIDDEN_FEATURES = 8 \n",
        "OUTPUT_FEATURES = 3\n",
        "\n",
        "model0 = change_device(tensor=IrisClassficationModel(input_features=INPUT_FEATURES, hidden_features=HIDDEN_FEATURES,\n",
        "                       output_features=OUTPUT_FEATURES),device=DEVICE)\n",
        "# summary(model0, (1,4))\n",
        "# X_train[0].unsqueeze(dim=0).shape"
      ],
      "metadata": {
        "id": "DfOjvRtEmtcx"
      },
      "execution_count": 7,
      "outputs": []
    },
    {
      "cell_type": "code",
      "source": [
        "loss_fn = nn.CrossEntropyLoss()\n",
        "optimizer = torch.optim.SGD(model0.parameters(), lr=0.1)\n"
      ],
      "metadata": {
        "id": "pesj1-rXl1xk"
      },
      "execution_count": 8,
      "outputs": []
    },
    {
      "cell_type": "code",
      "source": [
        "torch.manual_seed(RANDOM_STATE)\n",
        "\n",
        "EPOCHS = 100\n",
        "accuracy = Accuracy(task=\"multiclass\", num_classes=len(data_classes))\n",
        "\n",
        "y_train = y_train.to(torch.long)#.to(torch.long)\n",
        "X_train = X_train.to(torch.long)#.to(torch.long)\n",
        "\n",
        "X_test = X_test.to(torch.long)#.to(torch.long)\n",
        "y_test = y_test.to(torch.long)#.to(torch.long)\n",
        "\n",
        "print(f\"{X_train.dtype} -> {X_test.dtype} -> {y_train.dtype} -> {y_test.dtype}\")\n",
        "print(f\"y_test ->{y_train[:5]}  y_train-> {X_train[:5]}\")"
      ],
      "metadata": {
        "colab": {
          "base_uri": "https://localhost:8080/"
        },
        "id": "jnUYYXZR4UKd",
        "outputId": "a724ca3d-07f2-4f49-aa44-ae8b829842ea"
      },
      "execution_count": 9,
      "outputs": [
        {
          "output_type": "stream",
          "name": "stdout",
          "text": [
            "torch.int64 -> torch.int64 -> torch.int64 -> torch.int64\n",
            "y_test ->tensor([1, 2, 1, 0, 2])  y_train-> tensor([[5, 2, 4, 1],\n",
            "        [7, 3, 6, 2],\n",
            "        [5, 3, 4, 1],\n",
            "        [5, 3, 1, 0],\n",
            "        [7, 2, 6, 2]])\n"
          ]
        }
      ]
    },
    {
      "cell_type": "code",
      "source": [
        "for epoch in range(EPOCHS):\n",
        "  model0.train()\n",
        "\n",
        "  y_pred = model0(X_train.to(torch.float32))\n",
        "  # print(y_pred.shape)\n",
        "  # print(y_train.shape)\n",
        "  loss = loss_fn(y_pred, y_train)\n",
        "  train_acc = accuracy(y_pred,y_train)\n",
        "\n",
        "  # 3. Optimizer zero grad\n",
        "  optimizer.zero_grad()\n",
        "\n",
        "  # 4. Loss backwards\n",
        "  loss.backward()\n",
        "\n",
        "  # 5. Optimizer step\n",
        "  optimizer.step()\n",
        "\n",
        "  model0.eval()\n",
        "\n",
        "  with torch.inference_mode():\n",
        "    test_pred = model0(X_test.to(torch.float32))\n",
        "  \n",
        "  test_loss = loss_fn(test_pred, y_test)\n",
        "  \n",
        "  test_train_acc = accuracy(test_pred,y_test)\n",
        "\n",
        "  if epoch % 10 == 0: \n",
        "    print(f\"loss -> {loss:0.5f}  accuracy-> {train_acc:0.5f} test_loss-> {test_loss:0.5f} test_train_acc-> {test_train_acc:0.5f}\")"
      ],
      "metadata": {
        "colab": {
          "base_uri": "https://localhost:8080/"
        },
        "id": "ggKHTwjpp6Xi",
        "outputId": "4ccdf3e0-303d-45f2-c19f-26c08f7e994c"
      },
      "execution_count": 10,
      "outputs": [
        {
          "output_type": "stream",
          "name": "stdout",
          "text": [
            "loss -> 1.21475  accuracy-> 0.34000 test_loss-> 1.15239 test_train_acc-> 0.12000\n",
            "loss -> 0.81589  accuracy-> 0.65000 test_loss-> 0.77034 test_train_acc-> 0.70000\n",
            "loss -> 0.56576  accuracy-> 0.79000 test_loss-> 0.50207 test_train_acc-> 0.70000\n",
            "loss -> 0.46619  accuracy-> 0.85000 test_loss-> 0.39131 test_train_acc-> 0.96000\n",
            "loss -> 0.55515  accuracy-> 0.66000 test_loss-> 0.49370 test_train_acc-> 0.70000\n",
            "loss -> 0.40365  accuracy-> 0.85000 test_loss-> 0.30975 test_train_acc-> 0.96000\n",
            "loss -> 0.55036  accuracy-> 0.68000 test_loss-> 0.40229 test_train_acc-> 0.70000\n",
            "loss -> 0.37990  accuracy-> 0.93000 test_loss-> 0.26889 test_train_acc-> 0.88000\n",
            "loss -> 0.45067  accuracy-> 0.71000 test_loss-> 0.29241 test_train_acc-> 0.88000\n",
            "loss -> 0.38937  accuracy-> 0.79000 test_loss-> 0.26203 test_train_acc-> 0.88000\n"
          ]
        }
      ]
    },
    {
      "cell_type": "code",
      "source": [
        "model0.eval()\n",
        "with torch.inference_mode():\n",
        "  ev_test_pred = model0(X_test.to(torch.float))\n",
        "ev_loss = loss_fn(ev_test_pred, y_test)\n",
        "ev_accuracy = accuracy(ev_test_pred, y_test)\n",
        "\n",
        "print(f\"ev_loss -> {ev_loss:5f} ev_accuracy->{ev_accuracy:5f}\")"
      ],
      "metadata": {
        "colab": {
          "base_uri": "https://localhost:8080/"
        },
        "id": "oMvfGP0RyR9s",
        "outputId": "db6b757d-9539-4a93-81f5-21b7087df937"
      },
      "execution_count": 11,
      "outputs": [
        {
          "output_type": "stream",
          "name": "stdout",
          "text": [
            "ev_loss -> 0.322678 ev_accuracy->0.800000\n"
          ]
        }
      ]
    },
    {
      "cell_type": "code",
      "source": [],
      "metadata": {
        "id": "LNW2z4olIYtb"
      },
      "execution_count": null,
      "outputs": []
    }
  ]
}